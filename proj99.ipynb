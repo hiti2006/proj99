{
  "nbformat": 4,
  "nbformat_minor": 0,
  "metadata": {
    "colab": {
      "provenance": [],
      "authorship_tag": "ABX9TyMsD9zC83w0kCqZCS2RAD54",
      "include_colab_link": true
    },
    "kernelspec": {
      "name": "python3",
      "display_name": "Python 3"
    },
    "language_info": {
      "name": "python"
    }
  },
  "cells": [
    {
      "cell_type": "markdown",
      "metadata": {
        "id": "view-in-github",
        "colab_type": "text"
      },
      "source": [
        "<a href=\"https://colab.research.google.com/github/hiti2006/proj99/blob/main/proj99.ipynb\" target=\"_parent\"><img src=\"https://colab.research.google.com/assets/colab-badge.svg\" alt=\"Open In Colab\"/></a>"
      ]
    },
    {
      "cell_type": "code",
      "execution_count": 2,
      "metadata": {
        "colab": {
          "base_uri": "https://localhost:8080/"
        },
        "id": "d32jvhlxTNDY",
        "outputId": "2b6495a5-5ff8-4b5b-ca55-4700010a8f4c"
      },
      "outputs": [
        {
          "output_type": "stream",
          "name": "stdout",
          "text": [
            "Enter your name:Hiti\n",
            "H * * * \n",
            "* i * * \n",
            "* * t * \n",
            "* * * i \n"
          ]
        }
      ],
      "source": [
        "name=(input(\"Enter your name:\"))\n",
        "itr=len(name)\n",
        "for i in range(0,itr):\n",
        "  for j in range(0,itr):\n",
        "    if(i==j):\n",
        "      print(name[j],sep=\" \",end=\" \")\n",
        "    else:\n",
        "      print(\"*\",sep=\" \",end=\" \")\n",
        "  print()"
      ]
    }
  ]
}